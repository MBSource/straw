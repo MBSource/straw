{
 "cells": [
  {
   "cell_type": "markdown",
   "metadata": {
    "collapsed": true
   },
   "source": [
    "# Recommender Systems\n",
    "\n",
    "## Dataset\n",
    "\n",
    "- Our data contains UserId, ItemId, Rating and Time. \n",
    "- Can we get answers within miliseconds?\n",
    "- How do we evaluate whether our recommendations make sense?\n",
    "- Ratings are not given at random: <a href=\"https://arxiv.org/abs/1206.5267\">Collaborative Filtering and the Missing at Random Assumption</a>. The distribution of the rating matters. For instance, ratings of hard drives can be <a href=\"https://en.wikipedia.org/wiki/Multimodal_distribution\">bimodel</a>. Ratings are given by people where the hard disk works and other people who bought the hard drive but have lost data. There is little else for hard drives    \n",
    "- Is our dataset imbalanced i.e., are the ratings power law distributed? Power Law Distribution (long tail): The distribution is highly non-uniform where a small number of users have many ratings, and a large number that only have few ratings:\n",
    "\n",
    "  <img src=\"https://upload.wikimedia.org/wikipedia/commons/thumb/8/8a/Long_tail.svg/1280px-Long_tail.svg.png\" alt=\"Drawing\" style=\"width: 500px;\"/>\n",
    "\n",
    "## Content-based Filtering\n",
    "\n",
    "- Relies upon similarities between the items themselves. \n",
    "- Only utilises the attributes of the items and no user preferences\n",
    "- E.g. Movies have some attributes like IsAnimated, IsMarvelMovie, PassBechdelTest etc. Each of these feature may be important for some people. In Content-based Filtering we can consider some of these attributes of pair of movies and consider how similar they are.\n",
    "  \n",
    "## Collaborative Filtering\n",
    "\n",
    "- Relies on how other people have responded to items\n",
    "- Given a set of books that other people have rated what other books can we recommend a new user who likes certain other books\n",
    "\n",
    "### Nearest Neighbour recommendations\n",
    "<img src=\"https://image.slidesharecdn.com/cachingstrategiesforin-memoryneighborhood-basedrecommendersystems-130509094310-phpapp02/95/caching-strategies-for-in-memory-neighborhoodbased-recommender-systems-2-638.jpg?cb=1368093314\" />\n",
    "\n",
    "- Oldest Collaborative Filtering method.\n",
    "- Advantages:\n",
    "  - Simple way to start a recommendation system\n",
    "  - It is reasonably powerfull\n",
    "  - Decent baseline: can be used to compare other techniques\n",
    "  - Still used in the industry\n",
    "- Two approaches:\n",
    "  1. User-user similarity: Other users similar to you liked an item $x$, so may like $x$ as well.\n",
    "     - Good if item base is smaller than user base\n",
    "     - Good if item base changes rapidly\n",
    "     - Traverse bipartite similarity graph\n",
    "  2. Item-item similarity: Similarity to recommend new items that were also liked by the same users\n",
    "     - Good if the user base is small\n",
    "- Data:\n",
    "  - Some items are significantly higher rated\n",
    "  - Some users rate substantially lower in general than normal users. Consider user's historical ratings?\n",
    "  - Ratings change over time\n",
    "- Bias correction is crucial for nearest neighbourhood recommender systems:\n",
    "  $$\n",
    "    b_{ui} = \\mu + b_u + b_i\n",
    "  $$\n",
    "  - $\\mu$: Global bias\n",
    "  - $b_i$: Offset per item\n",
    "  - $b_u$: Offset per user. Incorporate user bias to get a better model.\n",
    "  - Time effects?\n",
    "  \n",
    "\n",
    "- <a href=\"https://neo4j.com/graphgist/a7c915c8-a3d6-43b9-8127-1836fecc6e2f\">Movie Recommendations with k-Nearest Neighbors and Cosine Similarity</a>\n",
    "- \n",
    "\n",
    "### Matrix Factorisation\n",
    "\n",
    "- Numerical analysis"
   ]
  }
 ],
 "metadata": {
  "kernelspec": {
   "display_name": "Python 3",
   "language": "python",
   "name": "python3"
  },
  "language_info": {
   "codemirror_mode": {
    "name": "ipython",
    "version": 3
   },
   "file_extension": ".py",
   "mimetype": "text/x-python",
   "name": "python",
   "nbconvert_exporter": "python",
   "pygments_lexer": "ipython3",
   "version": "3.6.0"
  }
 },
 "nbformat": 4,
 "nbformat_minor": 2
}
